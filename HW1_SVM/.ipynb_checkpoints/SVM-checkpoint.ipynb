{
 "cells": [
  {
   "cell_type": "markdown",
   "metadata": {},
   "source": [
    "# Домашняя работа №1"
   ]
  },
  {
   "cell_type": "markdown",
   "metadata": {},
   "source": [
    "**Срок сдачи:** 9 октября 2017, 23:59 <br\\>\n",
    "\n",
    "При отправлении ДЗ в Dropbox указывайте фамилию в названии файла: <br\\>\n",
    "** IDA<Номер группы>HW1<Фамилия>.ipynb ** - например ** IDA1HW1Panov.ipynb **<br\\>\n",
    "\n",
    "\n",
    "Сопровождайте ваш код изображеними, комментариями и выводами. <br\\>\n",
    "Иммейте ввиду, что на некоторые задачи нет единственного верного и полного ответа. Чем больше информации вы сможете извлечь, аргументированных выводов сформулировать, тем лучше.\n",
    "\n",
    "Используйте данный Ipython Notebook при оформлении домашнего задания."
   ]
  },
  {
   "cell_type": "markdown",
   "metadata": {},
   "source": [
    "# Table of Contents\n",
    " <p><div class=\"lev1 toc-item\"><a href=\"#Регрессия-с-SVM-(3-балла)\" data-toc-modified-id=\"Регрессия-с-SVM-(3-балла)-1\"><span class=\"toc-item-num\">1&nbsp;&nbsp;</span>Регрессия с SVM (3 балла)</a></div><div class=\"lev2 toc-item\"><a href=\"#Визуализация-данных-(1-балл)\" data-toc-modified-id=\"Визуализация-данных-(1-балл)-11\"><span class=\"toc-item-num\">1.1&nbsp;&nbsp;</span>Визуализация данных (1 балл)</a></div><div class=\"lev2 toc-item\"><a href=\"#Обучение-моделей-(2-балла)\" data-toc-modified-id=\"Обучение-моделей-(2-балла)-12\"><span class=\"toc-item-num\">1.2&nbsp;&nbsp;</span>Обучение моделей (2 балла)</a></div><div class=\"lev1 toc-item\"><a href=\"#Определение-языка-слова-(7-баллов)\" data-toc-modified-id=\"Определение-языка-слова-(7-баллов)-2\"><span class=\"toc-item-num\">2&nbsp;&nbsp;</span>Определение языка слова (7 баллов)</a></div><div class=\"lev2 toc-item\"><a href=\"#Загрузка-(1-балл)\" data-toc-modified-id=\"Загрузка-(1-балл)-21\"><span class=\"toc-item-num\">2.1&nbsp;&nbsp;</span>Загрузка (1 балл)</a></div><div class=\"lev2 toc-item\"><a href=\"#Подход-с-n-граммами-(2-балла)\" data-toc-modified-id=\"Подход-с-n-граммами-(2-балла)-22\"><span class=\"toc-item-num\">2.2&nbsp;&nbsp;</span>Подход с n-граммами (2 балла)</a></div><div class=\"lev2 toc-item\"><a href=\"#Подход-с-пользовательским-ядром\" data-toc-modified-id=\"Подход-с-пользовательским-ядром-23\"><span class=\"toc-item-num\">2.3&nbsp;&nbsp;</span>Подход с пользовательским ядром</a></div><div class=\"lev3 toc-item\"><a href=\"#Подготовка-данных-(1-балла)\" data-toc-modified-id=\"Подготовка-данных-(1-балла)-231\"><span class=\"toc-item-num\">2.3.1&nbsp;&nbsp;</span>Подготовка данных (1 балла)</a></div><div class=\"lev3 toc-item\"><a href=\"#Расчет-ядра-(2-балла)\" data-toc-modified-id=\"Расчет-ядра-(2-балла)-232\"><span class=\"toc-item-num\">2.3.2&nbsp;&nbsp;</span>Расчет ядра (2 балла)</a></div><div class=\"lev3 toc-item\"><a href=\"#Оценка-качества-(1-балл)\" data-toc-modified-id=\"Оценка-качества-(1-балл)-233\"><span class=\"toc-item-num\">2.3.3&nbsp;&nbsp;</span>Оценка качества (1 балл)</a></div>"
   ]
  },
  {
   "cell_type": "markdown",
   "metadata": {},
   "source": [
    "# Регрессия с SVM (3 балла)"
   ]
  },
  {
   "cell_type": "markdown",
   "metadata": {},
   "source": [
    "SVM можно использовать и для задачи регрессии.\n",
    "\n",
    "Загрузите набор данных из *titanium.csv*<br/>\n",
    "Будем решать задачу восстановления столбца 'y' по столбцу 'x'."
   ]
  },
  {
   "cell_type": "markdown",
   "metadata": {},
   "source": [
    "## Визуализация данных (1 балл)"
   ]
  },
  {
   "cell_type": "markdown",
   "metadata": {},
   "source": [
    "Выполните стандартную предобработку данных (вычет среднего и деление на стандартное отклонение) и выведите их на графике."
   ]
  },
  {
   "cell_type": "code",
   "execution_count": 1,
   "metadata": {},
   "outputs": [
    {
     "data": {
      "image/png": "[encoded data removed]",
      "text/plain": [
       "<matplotlib.figure.Figure at 0xab80d01780>"
      ]
     },
     "metadata": {},
     "output_type": "display_data"
    }
   ],
   "source": [
    "import pandas as pd\n",
    "import numpy as np\n",
    "import matplotlib.pyplot as plt\n",
    "from sklearn import preprocessing\n",
    "\n",
    "data_titanium=pd.read_csv(\"titanium.csv\")\n",
    "x,y=data_titanium.x.values,data_titanium.y.values\n",
    "x,y=x.reshape(-1,1),y.reshape(-1,1)\n",
    "\n",
    "x_scaled=preprocessing.StandardScaler().fit_transform(x)\n",
    "y_scaled=preprocessing.StandardScaler().fit_transform(y)\n",
    "\n",
    "plt.figure(figsize=(10,7))\n",
    "plt.plot(x_scaled,y_scaled,color=\"yellow\")\n",
    "plt.xlabel('x')\n",
    "plt.ylabel('y')\n",
    "plt.show()"
   ]
  },
  {
   "cell_type": "markdown",
   "metadata": {},
   "source": [
    "## Обучение моделей (2 балла)"
   ]
  },
  {
   "cell_type": "markdown",
   "metadata": {},
   "source": [
    "Рассмотрим 3 ядра: \n",
    "* Линейное\n",
    "* Полиномиальное (`degree = 3`, `gamma = 6`, `coef0 = 1`)\n",
    "* RBF (`gamma = 6`, `coef0 = 1`)\n",
    "\n",
    "Во всех случаях установите точность алгоритма оптимизации `epsilon=0.01`\n",
    "\n",
    "Для каждого из ядер:\n",
    "1. Постройте графики зависимости ошибки от параметра $C$ (ось графика со значениями параметра $C$ должна быть в логарифмической шкале). Ошибка измеряется как средняя абсолютная ошибка. \n",
    "2. Для наилучшего параметра $C$ постройте график с данными и предсказанием с помощью SVM.\n",
    "\n",
    "В каких случаях возникают эффекты недообучения, переобучения?"
   ]
  },
  {
   "cell_type": "code",
   "execution_count": 2,
   "metadata": {
    "collapsed": true
   },
   "outputs": [],
   "source": [
    "from sklearn.svm import SVR \n",
    "\n",
    "C_range = np.logspace(-4,3,8)"
   ]
  },
  {
   "cell_type": "code",
   "execution_count": 3,
   "metadata": {},
   "outputs": [
    {
     "name": "stdout",
     "output_type": "stream",
     "text": [
      "Fitting and predict with C: 0.0001\n",
      "Fitting and predict with C: 0.001\n",
      "Fitting and predict with C: 0.01\n",
      "Fitting and predict with C: 0.1\n",
      "Fitting and predict with C: 1.0\n",
      "Fitting and predict with C: 10.0\n",
      "Fitting and predict with C: 100.0\n",
      "Fitting and predict with C: 1000.0\n"
     ]
    }
   ],
   "source": [
    "from sklearn.metrics import mean_absolute_error\n",
    "#Fit и predict для каждого ядра и нахождение средней абсолютной ошибки для разных значений параметра С\n",
    "\n",
    "MAEs_linearSVR=[]\n",
    "for c in C_range:\n",
    "    Linear_SVR=SVR(kernel='linear',epsilon=0.01,C=c)\n",
    "    MAEs_linearSVR.append(mean_absolute_error(y_scaled,(Linear_SVR.fit(x_scaled,y_scaled.ravel()).predict(x_scaled))))\n",
    "    print(\"Fitting and predict with C:\",c)"
   ]
  },
  {
   "cell_type": "code",
   "execution_count": 4,
   "metadata": {},
   "outputs": [
    {
     "name": "stdout",
     "output_type": "stream",
     "text": [
      "Fitting and predict with C: 0.0001\n",
      "Fitting and predict with C: 0.001\n",
      "Fitting and predict with C: 0.01\n",
      "Fitting and predict with C: 0.1\n",
      "Fitting and predict with C: 1.0\n",
      "Fitting and predict with C: 10.0\n",
      "Fitting and predict with C: 100.0\n",
      "Fitting and predict with C: 1000.0\n"
     ]
    }
   ],
   "source": [
    "MAEs_polynomialSVR=[]\n",
    "for c in C_range:\n",
    "    Polynomial_SVR=SVR(kernel='poly',degree=3,gamma=6,coef0=1,epsilon=0.01,C=c)\n",
    "    MAEs_polynomialSVR.append(mean_absolute_error(y_scaled,(Polynomial_SVR.fit(x_scaled,y_scaled.ravel()).predict(x_scaled))))\n",
    "    print(\"Fitting and predict with C:\",c)"
   ]
  },
  {
   "cell_type": "code",
   "execution_count": 5,
   "metadata": {},
   "outputs": [
    {
     "name": "stdout",
     "output_type": "stream",
     "text": [
      "Fitting and predict with C: 0.0001\n",
      "Fitting and predict with C: 0.001\n",
      "Fitting and predict with C: 0.01\n",
      "Fitting and predict with C: 0.1\n",
      "Fitting and predict with C: 1.0\n",
      "Fitting and predict with C: 10.0\n",
      "Fitting and predict with C: 100.0\n",
      "Fitting and predict with C: 1000.0\n"
     ]
    }
   ],
   "source": [
    "MAEs_rbfSVR=[]\n",
    "for c in C_range:\n",
    "    RBF_SVR=SVR(kernel='rbf',gamma=6,coef0=1,epsilon=0.01,C=c)\n",
    "    MAEs_rbfSVR.append(mean_absolute_error(y_scaled,(RBF_SVR.fit(x_scaled,y_scaled.ravel()).predict(x_scaled))))\n",
    "    print(\"Fitting and predict with C:\",c)"
   ]
  },
  {
   "cell_type": "code",
   "execution_count": 6,
   "metadata": {},
   "outputs": [
    {
     "data": {
      "image/png": "[encoded data removed]",
      "text/plain": [
       "<matplotlib.figure.Figure at 0xab833972e8>"
      ]
     },
     "metadata": {},
     "output_type": "display_data"
    }
   ],
   "source": [
    "#Графики зависимости ошибки от параметра  C\n",
    "\n",
    "axx=(plt.figure(figsize=(10, 7))).add_subplot(111)\n",
    "axx.plot(np.log(C_range),MAEs_linearSVR,label='Linear')\n",
    "axx.plot(np.log(C_range),MAEs_polynomialSVR,label='Polynomial')\n",
    "axx.plot(np.log(C_range),MAEs_rbfSVR,label='RBF')\n",
    "axx.set_xlabel('Log C Values')\n",
    "axx.set_ylabel('MAE Values')\n",
    "axx.legend()\n",
    "plt.show()"
   ]
  },
  {
   "cell_type": "code",
   "execution_count": 7,
   "metadata": {
    "collapsed": true
   },
   "outputs": [],
   "source": [
    "#Нахождение наилучшего параметра  C\n",
    "\n",
    "c_best_for_linear=C_range[MAEs_linearSVR.index(min(MAEs_linearSVR))]\n",
    "c_best_for_polynomial=C_range[MAEs_polynomialSVR.index(min(MAEs_polynomialSVR))]\n",
    "c_best_for_rbf=C_range[MAEs_rbfSVR.index(min(MAEs_rbfSVR))]\n"
   ]
  },
  {
   "cell_type": "code",
   "execution_count": 8,
   "metadata": {
    "collapsed": true
   },
   "outputs": [],
   "source": [
    "##Fit и predict для каждого ядра с наилучшими параметрами С\n",
    "\n",
    "y_Linear=(SVR(kernel='linear',epsilon=0.01,C=c_best_for_linear)).fit(x_scaled,y_scaled.ravel()).predict(x_scaled)\n",
    "y_Polynomial=(SVR(kernel='poly',degree=3,gamma=6,coef0=1,epsilon=0.01,C=c_best_for_polynomial)).fit(x_scaled,y_scaled.ravel()).predict(x_scaled)\n",
    "y_RBF=(SVR(kernel='rbf',gamma=6,coef0=1,epsilon=0.01,C=c_best_for_rbf)).fit(x_scaled,y_scaled.ravel()).predict(x_scaled)"
   ]
  },
  {
   "cell_type": "code",
   "execution_count": 9,
   "metadata": {},
   "outputs": [
    {
     "data": {
      "image/png": "[encoded data removed]",
      "text/plain": [
       "<matplotlib.figure.Figure at 0xab833970f0>"
      ]
     },
     "metadata": {},
     "output_type": "display_data"
    }
   ],
   "source": [
    "# Графики с данными и предсказаниями с помощью SVM для каждого ядра с наилучшими параметрами С\n",
    "\n",
    "axx=(plt.figure(figsize=(10, 7))).add_subplot(111)\n",
    "axx.plot(x_scaled, y_scaled, label='Настоящий У')\n",
    "axx.plot(x_scaled, y_Linear, label='Предсказанный с помощью Linear SVR')\n",
    "axx.set_xlabel('x')\n",
    "axx.set_ylabel('y')\n",
    "axx.legend()\n",
    "plt.show()"
   ]
  },
  {
   "cell_type": "code",
   "execution_count": 10,
   "metadata": {},
   "outputs": [
    {
     "data": {
      "image/png": "[encoded data removed]",
      "text/plain": [
       "<matplotlib.figure.Figure at 0xab8383bb38>"
      ]
     },
     "metadata": {},
     "output_type": "display_data"
    }
   ],
   "source": [
    "axx=(plt.figure(figsize=(10, 7))).add_subplot(111)\n",
    "axx.plot(x_scaled, y_scaled, label='Настоящий У')\n",
    "axx.plot(x_scaled, y_Polynomial, label='Предсказанный с помощью Polynomial SVR')\n",
    "axx.set_xlabel('x')\n",
    "axx.set_ylabel('y')\n",
    "axx.legend()\n",
    "plt.show()"
   ]
  },
  {
   "cell_type": "code",
   "execution_count": 11,
   "metadata": {},
   "outputs": [
    {
     "data": {
      "image/png": "[encoded data removed]",
      "text/plain": [
       "<matplotlib.figure.Figure at 0xab83389f98>"
      ]
     },
     "metadata": {},
     "output_type": "display_data"
    }
   ],
   "source": [
    "axx=(plt.figure(figsize=(10, 7))).add_subplot(111)\n",
    "axx.plot(x_scaled, y_scaled, label='Настоящий У')\n",
    "axx.plot(x_scaled, y_RBF, label='Предсказанный с помощью RBF SVR')\n",
    "axx.set_xlabel('x')\n",
    "axx.set_ylabel('y')\n",
    "axx.legend()\n",
    "plt.show()"
   ]
  },
  {
   "cell_type": "markdown",
   "metadata": {},
   "source": [
    "Ответ:\n",
    "Эффект недообучения возникает при слишком маленьком параметре С  и имеет большую ошибку.\n",
    "\n",
    "Эффект переобучения возникает при слишком большом параметре С.\n",
    "\n",
    "Т.е данные эффекты в модели SVM зависят от параметра С"
   ]
  },
  {
   "cell_type": "markdown",
   "metadata": {},
   "source": [
    "# Определение языка слова (7 баллов)"
   ]
  },
  {
   "cell_type": "markdown",
   "metadata": {},
   "source": [
    "В данном задании вам необходимо построить модель, которая будет определять, на каком языке написано слово. Сделать это будет предложено двумя способами.\n",
    "\n",
    "Даны два текста - первые предложения произведения \"Война и Мир\" на английком и испанском, разбитые на слова."
   ]
  },
  {
   "cell_type": "markdown",
   "metadata": {},
   "source": [
    "## Загрузка (1 балл)\n",
    "\n",
    "Загрузите данные из файлов *war_and_peace_es.txt* и *war_and_peace_en.txt*.<br/> \n",
    "В результате вы должны получить pandas.DataFrame со столбцами *index* | *word* | *label*, где *index* - это индекс pandas, *word* - это слово и *label* - это метка класса (0 или 1)"
   ]
  },
  {
   "cell_type": "code",
   "execution_count": 12,
   "metadata": {},
   "outputs": [
    {
     "data": {
      "text/html": [
       "<div>\n",
       "<style>\n",
       "    .dataframe thead tr:only-child th {\n",
       "        text-align: right;\n",
       "    }\n",
       "\n",
       "    .dataframe thead th {\n",
       "        text-align: left;\n",
       "    }\n",
       "\n",
       "    .dataframe tbody tr th {\n",
       "        vertical-align: top;\n",
       "    }\n",
       "</style>\n",
       "<table border=\"1\" class=\"dataframe\">\n",
       "  <thead>\n",
       "    <tr style=\"text-align: right;\">\n",
       "      <th></th>\n",
       "      <th>word</th>\n",
       "      <th>label</th>\n",
       "    </tr>\n",
       "  </thead>\n",
       "  <tbody>\n",
       "    <tr>\n",
       "      <th>0</th>\n",
       "      <td>guerra</td>\n",
       "      <td>0</td>\n",
       "    </tr>\n",
       "    <tr>\n",
       "      <th>1</th>\n",
       "      <td>pace</td>\n",
       "      <td>0</td>\n",
       "    </tr>\n",
       "    <tr>\n",
       "      <th>2</th>\n",
       "      <td>lev</td>\n",
       "      <td>0</td>\n",
       "    </tr>\n",
       "    <tr>\n",
       "      <th>3</th>\n",
       "      <td>nicoevic</td>\n",
       "      <td>0</td>\n",
       "    </tr>\n",
       "    <tr>\n",
       "      <th>4</th>\n",
       "      <td>tolstj</td>\n",
       "      <td>0</td>\n",
       "    </tr>\n",
       "  </tbody>\n",
       "</table>\n",
       "</div>"
      ],
      "text/plain": [
       "       word  label\n",
       "0    guerra      0\n",
       "1      pace      0\n",
       "2       lev      0\n",
       "3  nicoevic      0\n",
       "4    tolstj      0"
      ]
     },
     "execution_count": 12,
     "metadata": {},
     "output_type": "execute_result"
    }
   ],
   "source": [
    "\n",
    "dfEs,dfEn= pd.read_csv('war_and_peace_es.txt',header=None),pd.read_csv('war_and_peace_en.txt',header=None)\n",
    "dfEs[1],dfEn[1]=0,1\n",
    "\n",
    "df=pd.concat([dfEs,dfEn],axis=0, join='inner')\n",
    "df.columns=['word','label']\n",
    "df.head(5)"
   ]
  },
  {
   "cell_type": "markdown",
   "metadata": {},
   "source": [
    "## Подход с n-граммами (2 балла)"
   ]
  },
  {
   "cell_type": "markdown",
   "metadata": {},
   "source": [
    "На этом этапе предлагается построить модель используя n-граммы слов, то есть последовательностях из n символов.<br/>\n",
    "Таким образом, признаками наших данных будут все найденные n-граммы слов, а значениями признаков будут частоты соответствующих n-грамм в слове.<br/>\n",
    "Например, для слова \"guerra\" би-граммами будут \"gu\", \"ue\", \"er\", \"rr\", \"ra\", каждая из которых встречается в нем с частотой 1.\n",
    "\n",
    "Для того, чтобы выделять n-граммы, удобно использовать `CountVectorizer()` с аргументами `analyzer='char'` и `ngram_range=(n_min, n_max)`. Вы наверняка встречались с этим векторизатором в предыдущем модуле.\n",
    "\n",
    "Таким образом, сделайте следующее:\n",
    "1. Задайте переменную RND_SEED, которая будет использоваться в любых генераторах случайных чисел в вашем коде (обычно параметр \"random_seed\")\n",
    "2. Разбейте данные на обучающую и отложенную выборку в пропорции 80/20\n",
    "3. Составьте [`Pipeline`](http://scikit-learn.org/stable/modules/generated/sklearn.pipeline.Pipeline.html), состоящий из `CountVectorizer()` и SVM с линейным ядром\n",
    "4. Исследуйте, как влияют размер n-грамм и величина штрафа `C` на предсказательную силу модели. Мера качества - accuracy."
   ]
  },
  {
   "cell_type": "code",
   "execution_count": 18,
   "metadata": {},
   "outputs": [
    {
     "name": "stdout",
     "output_type": "stream",
     "text": [
      "Fit,predict,accuracy для С: 0.0001  и для ngram: (1, 2)\n",
      "Fit,predict,accuracy для С: 0.0001  и для ngram: (1, 3)\n",
      "Fit,predict,accuracy для С: 0.0001  и для ngram: (1, 4)\n",
      "Fit,predict,accuracy для С: 0.001  и для ngram: (1, 2)\n",
      "Fit,predict,accuracy для С: 0.001  и для ngram: (1, 3)\n",
      "Fit,predict,accuracy для С: 0.001  и для ngram: (1, 4)\n",
      "Fit,predict,accuracy для С: 0.01  и для ngram: (1, 2)\n",
      "Fit,predict,accuracy для С: 0.01  и для ngram: (1, 3)\n",
      "Fit,predict,accuracy для С: 0.01  и для ngram: (1, 4)\n",
      "Fit,predict,accuracy для С: 0.1  и для ngram: (1, 2)\n",
      "Fit,predict,accuracy для С: 0.1  и для ngram: (1, 3)\n",
      "Fit,predict,accuracy для С: 0.1  и для ngram: (1, 4)\n",
      "Fit,predict,accuracy для С: 1.0  и для ngram: (1, 2)\n",
      "Fit,predict,accuracy для С: 1.0  и для ngram: (1, 3)\n",
      "Fit,predict,accuracy для С: 1.0  и для ngram: (1, 4)\n",
      "Fit,predict,accuracy для С: 10.0  и для ngram: (1, 2)\n",
      "Fit,predict,accuracy для С: 10.0  и для ngram: (1, 3)\n",
      "Fit,predict,accuracy для С: 10.0  и для ngram: (1, 4)\n",
      "Fit,predict,accuracy для С: 100.0  и для ngram: (1, 2)\n",
      "Fit,predict,accuracy для С: 100.0  и для ngram: (1, 3)\n",
      "Fit,predict,accuracy для С: 100.0  и для ngram: (1, 4)\n",
      "End\n"
     ]
    }
   ],
   "source": [
    "from sklearn.svm import SVC\n",
    "from sklearn.model_selection import train_test_split\n",
    "from sklearn.pipeline import Pipeline\n",
    "from sklearn.feature_extraction.text import CountVectorizer\n",
    "from sklearn.metrics import accuracy_score\n",
    "\n",
    "RND_SEED = 322\n",
    "ngrams=[(1, 2), (1, 3), (1, 4)]\n",
    "C_range=np.logspace(-4,2,7)\n",
    "\n",
    "x_train,x_test,y_train,y_test=train_test_split(df['word'], df['label'],random_state=RND_SEED,test_size=0.2)\n",
    "pipe=Pipeline([('vect',CountVectorizer(analyzer='char')), ('svm',SVC(kernel='linear'))])\n",
    "\n",
    "Accuracies=[]\n",
    "C_for_Output=[]\n",
    "ngram_for_Output=[]\n",
    "for c in C_range:\n",
    "    for ngram in ngrams:\n",
    "        param={'svm__C':c,'vect__ngram_range':ngram}\n",
    "        C_for_Output.append(c)\n",
    "        ngram_for_Output.append(ngram)\n",
    "        print (\"Fit,predict,accuracy для С:\",c,\" и для ngram:\",ngram)\n",
    "        pipe.set_params(**param)\n",
    "        pipe.fit(x_train,y_train)\n",
    "        Accuracies.append( accuracy_score(y_test,pipe.predict(x_test)))\n",
    "print(\"End\")"
   ]
  },
  {
   "cell_type": "code",
   "execution_count": 20,
   "metadata": {},
   "outputs": [
    {
     "data": {
      "text/html": [
       "<div>\n",
       "<style>\n",
       "    .dataframe thead tr:only-child th {\n",
       "        text-align: right;\n",
       "    }\n",
       "\n",
       "    .dataframe thead th {\n",
       "        text-align: left;\n",
       "    }\n",
       "\n",
       "    .dataframe tbody tr th {\n",
       "        vertical-align: top;\n",
       "    }\n",
       "</style>\n",
       "<table border=\"1\" class=\"dataframe\">\n",
       "  <thead>\n",
       "    <tr style=\"text-align: right;\">\n",
       "      <th></th>\n",
       "      <th>C</th>\n",
       "      <th>ngram_range</th>\n",
       "      <th>accuracy</th>\n",
       "    </tr>\n",
       "  </thead>\n",
       "  <tbody>\n",
       "    <tr>\n",
       "      <th>0</th>\n",
       "      <td>0.0001</td>\n",
       "      <td>(1, 2)</td>\n",
       "      <td>0.569487</td>\n",
       "    </tr>\n",
       "    <tr>\n",
       "      <th>1</th>\n",
       "      <td>0.0001</td>\n",
       "      <td>(1, 3)</td>\n",
       "      <td>0.569487</td>\n",
       "    </tr>\n",
       "    <tr>\n",
       "      <th>2</th>\n",
       "      <td>0.0001</td>\n",
       "      <td>(1, 4)</td>\n",
       "      <td>0.569487</td>\n",
       "    </tr>\n",
       "    <tr>\n",
       "      <th>3</th>\n",
       "      <td>0.0010</td>\n",
       "      <td>(1, 2)</td>\n",
       "      <td>0.768961</td>\n",
       "    </tr>\n",
       "    <tr>\n",
       "      <th>4</th>\n",
       "      <td>0.0010</td>\n",
       "      <td>(1, 3)</td>\n",
       "      <td>0.797457</td>\n",
       "    </tr>\n",
       "    <tr>\n",
       "      <th>5</th>\n",
       "      <td>0.0010</td>\n",
       "      <td>(1, 4)</td>\n",
       "      <td>0.801403</td>\n",
       "    </tr>\n",
       "    <tr>\n",
       "      <th>6</th>\n",
       "      <td>0.0100</td>\n",
       "      <td>(1, 2)</td>\n",
       "      <td>0.857080</td>\n",
       "    </tr>\n",
       "    <tr>\n",
       "      <th>7</th>\n",
       "      <td>0.0100</td>\n",
       "      <td>(1, 3)</td>\n",
       "      <td>0.888207</td>\n",
       "    </tr>\n",
       "    <tr>\n",
       "      <th>8</th>\n",
       "      <td>0.0100</td>\n",
       "      <td>(1, 4)</td>\n",
       "      <td>0.895660</td>\n",
       "    </tr>\n",
       "    <tr>\n",
       "      <th>9</th>\n",
       "      <td>0.1000</td>\n",
       "      <td>(1, 2)</td>\n",
       "      <td>0.903113</td>\n",
       "    </tr>\n",
       "    <tr>\n",
       "      <th>10</th>\n",
       "      <td>0.1000</td>\n",
       "      <td>(1, 3)</td>\n",
       "      <td>0.944323</td>\n",
       "    </tr>\n",
       "    <tr>\n",
       "      <th>11</th>\n",
       "      <td>0.1000</td>\n",
       "      <td>(1, 4)</td>\n",
       "      <td>0.952214</td>\n",
       "    </tr>\n",
       "    <tr>\n",
       "      <th>12</th>\n",
       "      <td>1.0000</td>\n",
       "      <td>(1, 2)</td>\n",
       "      <td>0.914511</td>\n",
       "    </tr>\n",
       "    <tr>\n",
       "      <th>13</th>\n",
       "      <td>1.0000</td>\n",
       "      <td>(1, 3)</td>\n",
       "      <td>0.953091</td>\n",
       "    </tr>\n",
       "    <tr>\n",
       "      <th>14</th>\n",
       "      <td>1.0000</td>\n",
       "      <td>(1, 4)</td>\n",
       "      <td>0.956160</td>\n",
       "    </tr>\n",
       "    <tr>\n",
       "      <th>15</th>\n",
       "      <td>10.0000</td>\n",
       "      <td>(1, 2)</td>\n",
       "      <td>0.922402</td>\n",
       "    </tr>\n",
       "    <tr>\n",
       "      <th>16</th>\n",
       "      <td>10.0000</td>\n",
       "      <td>(1, 3)</td>\n",
       "      <td>0.949145</td>\n",
       "    </tr>\n",
       "    <tr>\n",
       "      <th>17</th>\n",
       "      <td>10.0000</td>\n",
       "      <td>(1, 4)</td>\n",
       "      <td>0.953091</td>\n",
       "    </tr>\n",
       "    <tr>\n",
       "      <th>18</th>\n",
       "      <td>100.0000</td>\n",
       "      <td>(1, 2)</td>\n",
       "      <td>0.919334</td>\n",
       "    </tr>\n",
       "    <tr>\n",
       "      <th>19</th>\n",
       "      <td>100.0000</td>\n",
       "      <td>(1, 3)</td>\n",
       "      <td>0.947391</td>\n",
       "    </tr>\n",
       "    <tr>\n",
       "      <th>20</th>\n",
       "      <td>100.0000</td>\n",
       "      <td>(1, 4)</td>\n",
       "      <td>0.953091</td>\n",
       "    </tr>\n",
       "  </tbody>\n",
       "</table>\n",
       "</div>"
      ],
      "text/plain": [
       "           C ngram_range  accuracy\n",
       "0     0.0001      (1, 2)  0.569487\n",
       "1     0.0001      (1, 3)  0.569487\n",
       "2     0.0001      (1, 4)  0.569487\n",
       "3     0.0010      (1, 2)  0.768961\n",
       "4     0.0010      (1, 3)  0.797457\n",
       "5     0.0010      (1, 4)  0.801403\n",
       "6     0.0100      (1, 2)  0.857080\n",
       "7     0.0100      (1, 3)  0.888207\n",
       "8     0.0100      (1, 4)  0.895660\n",
       "9     0.1000      (1, 2)  0.903113\n",
       "10    0.1000      (1, 3)  0.944323\n",
       "11    0.1000      (1, 4)  0.952214\n",
       "12    1.0000      (1, 2)  0.914511\n",
       "13    1.0000      (1, 3)  0.953091\n",
       "14    1.0000      (1, 4)  0.956160\n",
       "15   10.0000      (1, 2)  0.922402\n",
       "16   10.0000      (1, 3)  0.949145\n",
       "17   10.0000      (1, 4)  0.953091\n",
       "18  100.0000      (1, 2)  0.919334\n",
       "19  100.0000      (1, 3)  0.947391\n",
       "20  100.0000      (1, 4)  0.953091"
      ]
     },
     "execution_count": 20,
     "metadata": {},
     "output_type": "execute_result"
    }
   ],
   "source": [
    "res=pd.DataFrame(columns=['C', 'ngram_range', 'accuracy'])\n",
    "res['C'],res['ngram_range'],res['accuracy']=C_for_Output,ngram_for_Output,Accuracies\n",
    "res"
   ]
  },
  {
   "cell_type": "markdown",
   "metadata": {},
   "source": [
    "## Подход с пользовательским ядром\n",
    "### Подготовка данных (1 балла)\n",
    "\n",
    "Особенностью пользовательского ядра в sklean.SVC является то, что на вход оно может принимать на вход **только** вектора чисел.<br/>\n",
    "В нашем случае это будут индексы соответствующих слов из корпуса. То есть вместо вектора ['treat', 'celebrit', 'prince', ...] на вход в ядро подается вектор из индексов [9209, 11145, 7735, ...] с помощью которых вы будете находить сами слова.\n",
    "\n",
    "Прежде чем мы начнем строить ядро, надо подготовить данные. Для этого:\n",
    "1. Задайте переменную RND_SEED, которая будет использоваться в любых генераторах случайных чисел в вашем коде (обычно параметр \"random_seed\")\n",
    "2. Случайным образом перемешайте и заново проиндексируйте таблицу, полученную выше (используйте методы `df.sample()` и `df.reset_index()`)\n",
    "3. Ядро может вычисляться достаточно долго, поэтому можете урезать таблицу, но оставить в ней не менее 1000 слов.\n",
    "4. Разбейте данные на обучающую и контрольную выборку в пропорции 80/20\n",
    "\n",
    "В результате вы должны получить вектор-столбец `X_train`, `X_test` с **индексами** слов и векторы `y_train`, `y_test` с метками классов."
   ]
  },
  {
   "cell_type": "code",
   "execution_count": 38,
   "metadata": {
    "collapsed": true
   },
   "outputs": [],
   "source": [
    "RND_SEED = 777\n",
    "\n",
    "df_new=df.sample(frac=1).reset_index().iloc[0:2000]\n",
    "x_train_new,x_test_new,y_train_new,y_test_new=train_test_split(df_new.index, df_new['label']\n",
    "                                                               ,random_state=RND_SEED,test_size=0.2)\n"
   ]
  },
  {
   "cell_type": "markdown",
   "metadata": {},
   "source": [
    "### Расчет ядра (2 балла)\n",
    "\n",
    "Теперь напишем собственное ядро для классификации строк. Для сравнения строк будем использовать [расстояние Левенштейна](https://ru.wikipedia.org/wiki/Расстояние_Левенштейна). Реализацию этого расстояния можно получить одним из двух способов:\n",
    "* скопировать функцию wfi_levenshtein из файла [pylev.py](https://github.com/toastdriven/pylev/blob/master/pylev.py)\n",
    "* поставить пакет [editdistance](https://pypi.python.org/pypi/editdistance) (будет работать быстрее, чем предыдущая реализация, но могут возникнуть проблемы с установкой)\n",
    "\n",
    "Ядро для сравнения строк должно принимать максимальное значение, когда слова одинаковы, и минимальное, когда очень отличаются. Это противоположно свойствам расстояния Левенштейна: оно равно 0, когда слова одинаковы, и максимально, когда слова разные. Поэтому подставьте значение расстояния Левенштейна в какое-нибудь ядро, зависящее от расстояния между объектами (например, гауссовское).\n",
    "\n",
    "Функция, реализующая расчет ядра должна принимать две матрицы $U$ и $V$ с признаковым описанием объектов (во время обучения они обе относятся к обучающей выборке, а во время применения - одна матрица относится к обучающей выборке, а другая к контрольной).\n",
    "Функция должна возвращать матрицу значений ядра для всех объектов попарно: $G_{ij} = K(U_i, V_j)$. Здесь $U_i$ — i-ый объект выборки $U$, а $V_j$ — j-ый объект выборки $V$.\n",
    "\n",
    "Сделайте следующее:\n",
    "1. Напишите функцию *string_kernel(U, V)*, расчитывающую матрицу ядра $G_{ij}$\n",
    "2. Визуализируйте матрицу только для тренировочной выборки (функция plt.imshow()).\n"
   ]
  },
  {
   "cell_type": "code",
   "execution_count": 39,
   "metadata": {
    "collapsed": true
   },
   "outputs": [],
   "source": [
    "def wfi_levenshtein(string_1, string_2):\n",
    "    \"\"\"\n",
    "    Calculates the Levenshtein distance between two strings.\n",
    "    This version uses an iterative version of the Wagner-Fischer algorithm.\n",
    "    Usage::\n",
    "        >>> wfi_levenshtein('kitten', 'sitting')\n",
    "        3\n",
    "        >>> wfi_levenshtein('kitten', 'kitten')\n",
    "        0\n",
    "        >>> wfi_levenshtein('', '')\n",
    "        0\n",
    "    \"\"\"\n",
    "    if string_1 == string_2:\n",
    "        return 0\n",
    "\n",
    "    len_1 = len(string_1)\n",
    "    len_2 = len(string_2)\n",
    "\n",
    "    if len_1 == 0:\n",
    "        return len_2\n",
    "    if len_2 == 0:\n",
    "        return len_1\n",
    "\n",
    "    if len_1 > len_2:\n",
    "        string_2, string_1 = string_1, string_2\n",
    "        len_2, len_1 = len_1, len_2\n",
    "\n",
    "    d0 = [i for i in range(len_2 + 1)]\n",
    "    d1 = [j for j in range(len_2 + 1)]\n",
    "\n",
    "    for i in range(len_1):\n",
    "        d1[0] = i + 1\n",
    "        for j in range(len_2):\n",
    "            cost = d0[j]\n",
    "\n",
    "            if string_1[i] != string_2[j]:\n",
    "                # substitution\n",
    "                cost += 1\n",
    "\n",
    "                # insertion\n",
    "                x_cost = d1[j] + 1\n",
    "                if x_cost < cost:\n",
    "                    cost = x_cost\n",
    "\n",
    "                # deletion\n",
    "                y_cost = d0[j + 1] + 1\n",
    "                if y_cost < cost:\n",
    "                    cost = y_cost\n",
    "\n",
    "            d1[j + 1] = cost\n",
    "\n",
    "        d0, d1 = d1, d0\n",
    "\n",
    "    return d0[-1]\n",
    "    "
   ]
  },
  {
   "cell_type": "code",
   "execution_count": 40,
   "metadata": {
    "collapsed": true
   },
   "outputs": [],
   "source": [
    "def string_kernel(U,V):\n",
    "    G = np.zeros((len(V), len(U)))\n",
    "    i = 0 \n",
    "    j = 0\n",
    "    for x1 in df_new.loc[V, 'word']:\n",
    "        for x2 in df_new.loc[U, 'word']:\n",
    "            G[i][j] = np.exp(-wfi_levenshtein(x1,x2)**2)\n",
    "            j += 1\n",
    "        i += 1\n",
    "        j = 0\n",
    "    \n",
    "    return G\n",
    "    "
   ]
  },
  {
   "cell_type": "markdown",
   "metadata": {},
   "source": [
    "### Оценка качества (1 балл)\n",
    "\n",
    "Обучите метод опорных векторов с различными значениями параметра штрафа $C$.<br/>\n",
    "Для каждого значения выведите accuracy на обучащей и контрольной выборке.\n",
    "\n",
    "Постарайтесь достичь качества в 70% на тестовой выборке. Для улучшения качества можно увеличить размер тренировочной выборки. Но тогда обучение будет происходить дольше."
   ]
  },
  {
   "cell_type": "code",
   "execution_count": 45,
   "metadata": {},
   "outputs": [
    {
     "data": {
      "image/png": "[encoded data removed]",
      "text/plain": [
       "<matplotlib.figure.Figure at 0xab831a1630>"
      ]
     },
     "metadata": {},
     "output_type": "display_data"
    }
   ],
   "source": [
    "G = string_kernel(x_train_new, x_train_new)\n",
    "plt.imshow(G)\n",
    "plt.show()"
   ]
  },
  {
   "cell_type": "code",
   "execution_count": 43,
   "metadata": {
    "collapsed": true
   },
   "outputs": [],
   "source": [
    "G_test = string_kernel(x_train_new, x_test_new)"
   ]
  },
  {
   "cell_type": "code",
   "execution_count": 46,
   "metadata": {},
   "outputs": [
    {
     "name": "stdout",
     "output_type": "stream",
     "text": [
      "Accuracy при С: 0.0001 = 0.575\n",
      "Accuracy при С: 0.001 = 0.575\n",
      "Accuracy при С: 0.01 = 0.575\n",
      "Accuracy при С: 0.1 = 0.685\n",
      "Accuracy при С: 1.0 = 0.8625\n",
      "Accuracy при С: 10.0 = 0.8625\n",
      "Accuracy при С: 100.0 = 0.8625\n"
     ]
    }
   ],
   "source": [
    "for c in C_range:\n",
    "    string_kernel_clf = SVC(kernel='precomputed',C=c)\n",
    "    string_kernel_clf.fit(G, y_train_new)\n",
    "    print(\"Accuracy при С:\",c,\"=\",accuracy_score(y_test_new, string_kernel_clf.predict(G_test)))"
   ]
  }
 ],
 "metadata": {
  "anaconda-cloud": {},
  "kernelspec": {
   "display_name": "Python [default]",
   "language": "python",
   "name": "python3"
  },
  "language_info": {
   "codemirror_mode": {
    "name": "ipython",
    "version": 3
   },
   "file_extension": ".py",
   "mimetype": "text/x-python",
   "name": "python",
   "nbconvert_exporter": "python",
   "pygments_lexer": "ipython3",
   "version": "3.5.4"
  },
  "nav_menu": {},
  "toc": {
   "colors": {
    "hover_highlight": "#DAA520",
    "navigate_num": "#000000",
    "navigate_text": "#333333",
    "running_highlight": "#FF0000",
    "selected_highlight": "#FFD700",
    "sidebar_border": "#EEEEEE",
    "wrapper_background": "#FFFFFF"
   },
   "moveMenuLeft": true,
   "nav_menu": {
    "height": "217px",
    "width": "253px"
   },
   "navigate_menu": true,
   "number_sections": false,
   "sideBar": true,
   "threshold": 4,
   "toc_cell": false,
   "toc_section_display": "block",
   "toc_window_display": true,
   "widenNotebook": false
  }
 },
 "nbformat": 4,
 "nbformat_minor": 1
}
